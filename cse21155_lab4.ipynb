{
 "cells": [
  {
   "cell_type": "code",
   "execution_count": 1,
   "id": "b765268d",
   "metadata": {},
   "outputs": [],
   "source": [
    "import numpy as np\n",
    "import pandas as pd\n",
    "from math import log2"
   ]
  },
  {
   "cell_type": "code",
   "execution_count": 8,
   "id": "ec33e5b3",
   "metadata": {},
   "outputs": [
    {
     "name": "stdout",
     "output_type": "stream",
     "text": [
      "Entropy (buys_computer): 0.97\n",
      "Information Gains:\n",
      "age: 0.32\n",
      "income: 0.10\n",
      "student: 0.12\n",
      "credit_rating: 0.05\n",
      "The first feature for the decision tree is: {root_node}\n"
     ]
    }
   ],
   "source": [
    "# Create a DataFrame with your data\n",
    "data = {\n",
    "    'age': ['<=30', '<=30', '31...40', '>40', '>40', '>40', '31...40', '<=30', '<=30', '>40'],\n",
    "    'income': ['high', 'high', 'high', 'medium', 'low', 'low', 'low', 'medium', 'low', 'medium'],\n",
    "    'student': ['no', 'no', 'no', 'no', 'yes', 'yes', 'yes', 'no', 'yes', 'yes'],\n",
    "    'credit_rating': ['fair', 'fair', 'fair', 'fair', 'excellent', 'excellent', 'excellent', 'fair', 'fair', 'excellent'],\n",
    "    'buys_computer': ['no', 'no', 'yes', 'yes', 'yes', 'no', 'yes', 'no', 'yes', 'yes']\n",
    "}\n",
    "\n",
    "df = pd.DataFrame(data)\n",
    "\n",
    "# Function to calculate entropy\n",
    "def entropy(data):\n",
    "    counts = data.value_counts() / len(data)\n",
    "    entropy = -np.sum(counts * np.log2(counts))\n",
    "    return entropy\n",
    "\n",
    "\n",
    "entropy_before_split = entropy(df['buys_computer'])\n",
    "def info_gain(target, feature):\n",
    "    total_entropy = entropy(target)\n",
    "    values = feature.unique()\n",
    "    weighted_entropy = 0\n",
    "    for value in values:\n",
    "        subset_indices = feature.index[feature == value]\n",
    "        subset_target = target[subset_indices]\n",
    "        weighted_entropy += (len(subset_target) / len(target)) * entropy(subset_target)\n",
    "    return total_entropy - weighted_entropy\n",
    "\n",
    "information_gains = {}\n",
    "target = df['buys_computer']\n",
    "for feature_name in df.columns[:-1]:  \n",
    "    feature = df[feature_name]\n",
    "    information_gains[feature_name] = information_gain(target, feature)\n",
    "\n",
    "\n",
    "root_node = max(information_gains, key=information_gains.get)\n",
    "\n",
    "print(f\"Entropy (buys_computer): {entropy_before_split:.2f}\")\n",
    "print(\"Information Gains:\")\n",
    "for feature, ig in information_gains.items():\n",
    "print(f\"{feature}: {ig:.2f}\")\n",
    "print(\"The first feature for the decision tree is: {root_node}\")"
   ]
  },
  {
   "cell_type": "code",
   "execution_count": 9,
   "id": "b80bf9f3",
   "metadata": {},
   "outputs": [
    {
     "name": "stdout",
     "output_type": "stream",
     "text": [
      "The first feature for constructing the decision tree is age.\n"
     ]
    }
   ],
   "source": [
    "import math\n",
    "import pandas as pd\n",
    "\n",
    "def entropy(data, attribute):\n",
    "    values = data[attribute].unique()\n",
    "    entropy = 0\n",
    "    for value in values:\n",
    "        p = len(data[data[attribute] == value]) / len(data)\n",
    "        entropy += -p * math.log2(p)\n",
    "    return entropy\n",
    "\n",
    "def information_gain(data, attribute, class_label):\n",
    "    values = data[attribute].unique()\n",
    "    information_gain = entropy(data, class_label)\n",
    "    for value in values:\n",
    "        subset = data[data[attribute] == value]\n",
    "        p = len(subset) / len(data)\n",
    "        information_gain -= p * entropy(subset, class_label)\n",
    "    return information_gain\n",
    "\n",
    "def choose_root_node(data, attributes, class_label):\n",
    "    information_gains = [(attribute, information_gain(data, attribute, class_label)) for attribute in attributes]\n",
    "    return max(information_gains, key=lambda x: x[1])[0]\n",
    "\n",
    "data = {\n",
    "    'age': ['<=30', '<=30', '31…40', '>40', '>40', '>40', '31…40', '<=30', '<=30', '>40', '<=30', '31…40', '31…40', '>40'],\n",
    "    'income': ['high', 'high', 'high', 'medium', 'low', 'low', 'low', 'medium', 'low', 'medium', 'medium', 'medium', 'high', 'medium'],\n",
    "    'student': ['no', 'no', 'no', 'no', 'yes', 'yes', 'yes', 'no', 'yes', 'yes', 'yes', 'no', 'yes', 'no'],\n",
    "    'credit_rating': ['fair', 'excellent', 'fair', 'fair', 'fair', 'excellent', 'excellent', 'fair', 'fair', 'fair', 'excellent', 'excellent', 'fair', 'excellent'],\n",
    "    'buys_computer': ['no', 'no', 'yes', 'yes', 'yes', 'no', 'yes', 'no', 'yes', 'yes', 'yes', 'yes', 'yes', 'no']\n",
    "}\n",
    "\n",
    "data_df = pd.DataFrame(data)\n",
    "\n",
    "attributes = ['age', 'income', 'student', 'credit_rating']\n",
    "class_label = 'buys_computer'\n",
    "\n",
    "root_node = choose_root_node(data_df, attributes, class_label)\n",
    "\n",
    "print(f'The first feature for constructing the decision tree is {root_node}.')"
   ]
  },
  {
   "cell_type": "code",
   "execution_count": null,
   "id": "3e73e3d7",
   "metadata": {},
   "outputs": [],
   "source": []
  }
 ],
 "metadata": {
  "kernelspec": {
   "display_name": "Python 3 (ipykernel)",
   "language": "python",
   "name": "python3"
  },
  "language_info": {
   "codemirror_mode": {
    "name": "ipython",
    "version": 3
   },
   "file_extension": ".py",
   "mimetype": "text/x-python",
   "name": "python",
   "nbconvert_exporter": "python",
   "pygments_lexer": "ipython3",
   "version": "3.11.4"
  }
 },
 "nbformat": 4,
 "nbformat_minor": 5
}
